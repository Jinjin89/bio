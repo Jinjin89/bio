{
  "cells": [
    {
      "cell_type": "raw",
      "metadata": {},
      "source": [
        "---\n",
        "title: Python for microscopist\n",
        "---"
      ],
      "id": "b4ecbf39"
    },
    {
      "cell_type": "markdown",
      "metadata": {},
      "source": [
        "# Aims\n",
        "\n",
        "* processing HE\n",
        "\n",
        "* processing immune staining\n",
        "\n",
        "* \n",
        "\n",
        "\n",
        "# Images\n",
        "\n",
        "\n",
        "## images in python\n",
        "\n",
        "\n",
        "# IO\n",
        "\n",
        "* PIL\n",
        "\n",
        "* matplotlib\n",
        "\n",
        "* skimage\n",
        "\n",
        "* openCV\n",
        "\n",
        "\n",
        "\n",
        "1. basic usages\n"
      ],
      "id": "4e103f60"
    },
    {
      "cell_type": "code",
      "metadata": {},
      "source": [
        "import numpy as np\n",
        "import pandas as pd\n",
        "import matplotlib.pyplot as plt\n",
        "images_file = '/home/keke/data/web/python_for_microscopists/images/test_image.jpg'\n",
        "images_file_czi = '/home/keke/data/web/python_for_microscopists/images/test_image.czi'\n",
        "images_file_ome_tiff = '/home/keke/data/web/python_for_microscopists/images/test_image.ome.tif'"
      ],
      "id": "55d593a0",
      "execution_count": null,
      "outputs": []
    },
    {
      "cell_type": "code",
      "metadata": {},
      "source": [
        "%matplotlib inline\n",
        "# 1) read by PIL\n",
        "\n",
        "from PIL import Image\n",
        "img = Image.open(images_file)\n",
        "#print(type(img))\n",
        "# img.show()\n",
        "# change images into arrays\n",
        "img_array = np.asarray(img)"
      ],
      "id": "00cc1bbe",
      "execution_count": null,
      "outputs": []
    },
    {
      "cell_type": "code",
      "metadata": {},
      "source": [
        "# 2) read by matplotlib\n",
        "import matplotlib.image as mping\n",
        "img = mping.imread(images_file)\n",
        "print(type(img))\n",
        "plt.imshow(img)\n",
        "plt.colorbar()"
      ],
      "id": "f5f7409b",
      "execution_count": null,
      "outputs": []
    },
    {
      "cell_type": "code",
      "metadata": {},
      "source": [
        "# 3) read by skimage\n",
        "from skimage import io, img_as_float, img_as_ubyte\n",
        "img = io.imread(images_file)\n",
        "print(type(img))\n",
        "# conver imgae as float\n",
        "img_float = img_as_float(img)\n",
        "print(img_float)\n",
        "plt.imshow(img)\n",
        "plt.colorbar()\n",
        "plt.show()\n",
        "\n",
        "plt.imshow(img_float)\n",
        "plt.colorbar()\n",
        "plt.show()"
      ],
      "id": "b80bc70c",
      "execution_count": null,
      "outputs": []
    },
    {
      "cell_type": "markdown",
      "metadata": {},
      "source": [
        "2. reading multiple images / time-series files\n",
        "\n",
        "\n",
        "* czifile\n"
      ],
      "id": "a32f63b8"
    },
    {
      "cell_type": "code",
      "metadata": {},
      "source": [
        "import czifile \n",
        "img = czifile.imread(images_file_czi)\n",
        "\n",
        "print(img.shape)"
      ],
      "id": "3c78fdd8",
      "execution_count": null,
      "outputs": []
    },
    {
      "cell_type": "markdown",
      "metadata": {},
      "source": [
        "* apeer-ometiff-library\n",
        "\n",
        "\n",
        "3. read all files\n",
        "\n",
        "using glob\n",
        "\n",
        "# preprocessing\n",
        "\n",
        "## PIL\n",
        "\n",
        "* resize: change the ratio\n",
        "\n",
        "* thumbnail: orgin ratio\n",
        "\n",
        "* crop\n",
        "\n",
        "* paste:\n",
        "\n",
        "* rotate\n"
      ],
      "id": "19b55205"
    },
    {
      "cell_type": "code",
      "metadata": {},
      "source": [
        "from PIL import Image\n",
        "img = Image.open(images_file)\n",
        "print(img.format)\n",
        "print(img.mode)\n",
        "print(img.size)\n",
        "print(type(img))\n",
        "\n",
        "# resize\n",
        "plt.imshow(img)\n",
        "plt.show()\n",
        "\n",
        "small_img = img.resize((200,300))\n",
        "plt.imshow(small_img)\n",
        "plt.show()\n",
        "\n",
        "# thumbnail\n",
        "img.thumbnail((200,300))\n",
        "print(img.size)\n",
        "plt.imshow(img)\n",
        "plt.show()\n",
        "\n",
        "img.thumbnail((1200,1300))\n",
        "print(img.size)\n",
        "plt.imshow(img)\n",
        "plt.show()\n",
        "\n",
        "# crop\n",
        "img = Image.open(images_file)\n",
        "crop_img = img.crop((0,0,300,300))\n",
        "\n",
        "plt.imshow(crop_img)\n",
        "plt.show()\n",
        "\n",
        "# paste\n",
        "img.paste(crop_img)\n",
        "\n",
        "# image\n",
        "img.rotate(90)"
      ],
      "id": "e7d379d0",
      "execution_count": null,
      "outputs": []
    },
    {
      "cell_type": "markdown",
      "metadata": {},
      "source": [
        "## skimage\n"
      ],
      "id": "7e2c6d38"
    },
    {
      "cell_type": "code",
      "metadata": {},
      "source": [
        "from skimage import io\n",
        "from matplotlib import pyplot as plt\n",
        "from skimage.transform import rescale,resize,downscale_local_mean\n",
        "img = io.imread(images_file,as_gray=True)\n",
        "plt.imshow(img)\n",
        "plt.show()\n",
        "\n",
        "# rescale\n",
        "img_rescale = rescale(img,1/4,anti_aliasing=True)\n",
        "plt.imshow(img_rescale)\n",
        "plt.show()\n",
        "img_resize =resize(img,(200,200),anti_aliasing=True)\n",
        "plt.imshow(img_resize)\n",
        "plt.show()\n",
        "img_down = downscale_local_mean(img,(4,3))\n",
        "plt.imshow(img_down)\n",
        "plt.show()"
      ],
      "id": "a8f021f5",
      "execution_count": null,
      "outputs": []
    },
    {
      "cell_type": "markdown",
      "metadata": {},
      "source": [
        "* edge detections\n"
      ],
      "id": "da7fdbda"
    },
    {
      "cell_type": "code",
      "metadata": {},
      "source": [
        "from skimage.filters import roberts,sobel,scharr,prewitt\n",
        "\n",
        "from skimage.feature import canny\n",
        "edge_canny = canny(img,sigma = 5)\n",
        "plt.imshow(edge_canny)\n",
        "plt.show()"
      ],
      "id": "5e40cdba",
      "execution_count": null,
      "outputs": []
    },
    {
      "cell_type": "markdown",
      "metadata": {},
      "source": [
        "* deconvolution\n",
        "\n",
        "psf: point spread function\n"
      ],
      "id": "83c445ae"
    },
    {
      "cell_type": "code",
      "metadata": {},
      "source": [
        "from skimage import restoration\n",
        "import numpy as np\n",
        "psf = np.ones((3,3)) / 9\n",
        "decon,_ = restoration.unsupervised_wiener(img,psf)\n",
        "\n",
        "plt.imshow(decon,cmap=\"gray\")\n",
        "plt.show()"
      ],
      "id": "f1cbd0d5",
      "execution_count": null,
      "outputs": []
    },
    {
      "cell_type": "markdown",
      "metadata": {},
      "source": [
        "* example: wound healing\n",
        "\n",
        "Introduce entropy there, in wound healing experiments, the clean images and the \n"
      ],
      "id": "9845acd6"
    },
    {
      "cell_type": "code",
      "metadata": {},
      "source": [
        "from skimage import io,restoration\n",
        "from skimage.filters.rank import entropy\n",
        "from skimage.morphology import disk\n",
        "images_file = '/home/keke/data/web/python_for_microscopists/images/scratch.jpg'\n",
        "img = io.imread(images_file)\n",
        "entr_img = entropy(img,disk(3))\n",
        "plt.imshow(entr_img,cmap = \"gray\")\n",
        "plt.show()\n",
        "\n",
        "# try all\n",
        "from skimage.filters import try_all_threshold\n",
        "from skimage.filters import threshold_otsu\n",
        "fig,ax = try_all_threshold(entr_img,figsize = (10,8),verbose =False)\n",
        "plt.show()\n",
        "\n",
        "# thereshold is one single number\n",
        "ts_value = threshold_otsu(entr_img)\n",
        "print(ts_value)\n",
        "\n",
        "# sum the value to get percentages\n",
        "np.sum(entr_img < ts_value)/(np.sum(entr_img < ts_value) + np.sum(entr_img > ts_value))"
      ],
      "id": "eecfc998",
      "execution_count": null,
      "outputs": []
    },
    {
      "cell_type": "markdown",
      "metadata": {},
      "source": [
        "# reference\n",
        "\n",
        "Almost all the content comes from:\n",
        "<https://www.youtube.com/watch?v=X_pCiVQ4c4E&list=PLZsOBAyNTZwbIjGnolFydAN33gyyGP7lT>\n"
      ],
      "id": "b3a0ee87"
    }
  ],
  "metadata": {
    "kernelspec": {
      "display_name": "Python 3",
      "language": "python",
      "name": "python3"
    }
  },
  "nbformat": 4,
  "nbformat_minor": 5
}